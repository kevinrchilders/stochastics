{
  "nbformat": 4,
  "nbformat_minor": 0,
  "metadata": {
    "colab": {
      "name": "stochastics.ipynb",
      "provenance": [],
      "authorship_tag": "ABX9TyM/Yd9Lv3ETfeRV8kf4yiQm",
      "include_colab_link": true
    },
    "kernelspec": {
      "name": "python3",
      "display_name": "Python 3"
    }
  },
  "cells": [
    {
      "cell_type": "markdown",
      "metadata": {
        "id": "view-in-github",
        "colab_type": "text"
      },
      "source": [
        "<a href=\"https://colab.research.google.com/github/kevinrchilders/stochastics/blob/main/stochastics.ipynb\" target=\"_parent\"><img src=\"https://colab.research.google.com/assets/colab-badge.svg\" alt=\"Open In Colab\"/></a>"
      ]
    },
    {
      "cell_type": "markdown",
      "metadata": {
        "id": "0f2BHQaFQx3N"
      },
      "source": [
        "#Stochastics\n",
        "\n",
        "---\n",
        "\n",
        "From a special topics course at the University of Utah in Spring 2020."
      ]
    },
    {
      "cell_type": "code",
      "metadata": {
        "id": "dKNOnNwaNonD"
      },
      "source": [
        "import numpy as np"
      ],
      "execution_count": 1,
      "outputs": []
    },
    {
      "cell_type": "markdown",
      "metadata": {
        "id": "iMz9uSWtRYfk"
      },
      "source": [
        "---\n",
        "\n",
        "## Markov chains\n",
        "\n",
        "---"
      ]
    },
    {
      "cell_type": "markdown",
      "metadata": {
        "id": "PMhQWm1qi_km"
      },
      "source": [
        "### Ranking websites"
      ]
    },
    {
      "cell_type": "markdown",
      "metadata": {
        "id": "eConV_gkS6Eb"
      },
      "source": [
        "Consider a tiny web consisting of 6 sites. Site 1 is John’s\n",
        "homepage. John teaches calculus and his site points to sites 2 and 3. Site 2 is the course syllabus and does not point to any other sites. Site 3 is the calculus course website. It points back at John’s homepage and also at the course syllabus. It also points at Emily’s webpage, site 5. (Emily is the TA for the course.) Site 4 belongs to a friend of Emily’s, Jack. It points at Emily’s website and at Jack’s old website, site 6. Emily’s website points at both Jack’s pages, the new one 4 and the old one 6. Jack’s old webpage 6 points at his new webpage 4.\n",
        "\n",
        "Suppose from any site you are equally likely to follow any link.  This creates a Markov process, since your decision of what to click next depends only on your current location.  There's one issue: site 2 doesn't have any links.  So let's just say that from site 2 you are equally likely to jump to any of the six sites.  Then the transition matrix $\\Pi$ is given by:"
      ]
    },
    {
      "cell_type": "code",
      "metadata": {
        "id": "ez6aaDSnUOKG",
        "outputId": "9a0cc0dd-e2c7-42e8-ae61-67a6937e9654",
        "colab": {
          "base_uri": "https://localhost:8080/",
          "height": 119
        }
      },
      "source": [
        "Pi = np.array([[0, 1/6, 1/3, 0, 0, 0], \n",
        "                [1/2, 1/6, 1/3, 0, 0, 0], \n",
        "                [1/2, 1/6, 0, 0, 0, 0], \n",
        "                [0, 1/6, 0, 0, 1/2, 1], \n",
        "                [0, 1/6, 1/3, 1/2, 0, 0], \n",
        "                [0, 1/6, 0, 1/2, 1/2, 0]])\n",
        "\n",
        "print(Pi)"
      ],
      "execution_count": 2,
      "outputs": [
        {
          "output_type": "stream",
          "text": [
            "[[0.         0.16666667 0.33333333 0.         0.         0.        ]\n",
            " [0.5        0.16666667 0.33333333 0.         0.         0.        ]\n",
            " [0.5        0.16666667 0.         0.         0.         0.        ]\n",
            " [0.         0.16666667 0.         0.         0.5        1.        ]\n",
            " [0.         0.16666667 0.33333333 0.5        0.         0.        ]\n",
            " [0.         0.16666667 0.         0.5        0.5        0.        ]]\n"
          ],
          "name": "stdout"
        }
      ]
    },
    {
      "cell_type": "markdown",
      "metadata": {
        "id": "8Ynvm-YcX6iz"
      },
      "source": [
        "Suppose that we wish to \"rank\" the sites.\n",
        "We could do this by computing the invariant measure (which tells us the probability to be at each site after a large number of clicks).\n",
        "Notice that $\\Pi$ has an eigenvalue of 1."
      ]
    },
    {
      "cell_type": "code",
      "metadata": {
        "id": "b7vG5FnGVvxd",
        "outputId": "4f1a00db-7079-4310-f0b1-268e57a1a011",
        "colab": {
          "base_uri": "https://localhost:8080/",
          "height": 34
        }
      },
      "source": [
        "np.linalg.eigvals(Pi)[0]"
      ],
      "execution_count": 3,
      "outputs": [
        {
          "output_type": "execute_result",
          "data": {
            "text/plain": [
              "(1.0000000000000013+0j)"
            ]
          },
          "metadata": {
            "tags": []
          },
          "execution_count": 3
        }
      ]
    },
    {
      "cell_type": "markdown",
      "metadata": {
        "id": "AZksF39aYcAm"
      },
      "source": [
        "We can find the invariant measure by solving for an eigenvector of $\\Pi$ with eigenvalue 1, and normalizing so that the entries add to 1."
      ]
    },
    {
      "cell_type": "code",
      "metadata": {
        "id": "mM9UGVDGXwhm",
        "outputId": "ea82d33e-7890-4ae8-fa57-20e2c257a931",
        "colab": {
          "base_uri": "https://localhost:8080/",
          "height": 51
        }
      },
      "source": [
        "evec = np.linalg.eig(Pi)[1][:, 0]\n",
        "\n",
        "# Shows that evec is an eigenvector for 1\n",
        "\n",
        "print('Pi*evec =\\t', np.round(np.dot(Pi, evec),5))\n",
        "print('evec =\\t\\t', np.round(evec,5))"
      ],
      "execution_count": 4,
      "outputs": [
        {
          "output_type": "stream",
          "text": [
            "Pi*evec =\t [0.     +0.j 0.     +0.j 0.     +0.j 0.74278+0.j 0.37139+0.j 0.55709+0.j]\n",
            "evec =\t\t [0.     +0.j 0.     +0.j 0.     +0.j 0.74278+0.j 0.37139+0.j 0.55709+0.j]\n"
          ],
          "name": "stdout"
        }
      ]
    },
    {
      "cell_type": "code",
      "metadata": {
        "id": "FhG2PskrYIgA",
        "outputId": "f7773f98-667c-4cb6-a5c6-1743aebb8851",
        "colab": {
          "base_uri": "https://localhost:8080/",
          "height": 51
        }
      },
      "source": [
        "# Drop imaginary parts (which appear to be 0)\n",
        "evec = np.real(evec)\n",
        "print('Before normalizing:\\t',np.round(evec,5))\n",
        "\n",
        "# Scale so that the entries sum to 1\n",
        "evec = evec / np.sum(evec)\n",
        "print('After normalizing:\\t',np.round(evec,5))"
      ],
      "execution_count": 5,
      "outputs": [
        {
          "output_type": "stream",
          "text": [
            "Before normalizing:\t [0.      0.      0.      0.74278 0.37139 0.55709]\n",
            "After normalizing:\t [0.      0.      0.      0.44444 0.22222 0.33333]\n"
          ],
          "name": "stdout"
        }
      ]
    },
    {
      "cell_type": "markdown",
      "metadata": {
        "id": "tB7veF0Bc4lG"
      },
      "source": [
        "So the invariant measure is given by $[0, 0, 0, \\frac49, \\frac29, \\frac39]^T$.  Notice that in this model sites 1, 2, and 3 are transient.  So it isn't surprising that the invariant measure gives zero probability to these states.\n",
        "As a result, we can't fully rank the sites.\n",
        "\n",
        "To fix this, we can add to each site (other than 2) a small chance of jumping to any site.\n",
        "Say that with 15% probability we make a random jump, and with 85% probability we follow a link.\n",
        "\n",
        "Then new transition matrix is given by:"
      ]
    },
    {
      "cell_type": "code",
      "metadata": {
        "id": "b7sHg5_Paf9t",
        "outputId": "5adff02c-8e1e-4ad8-e0ce-f4454e36cd51",
        "colab": {
          "base_uri": "https://localhost:8080/",
          "height": 119
        }
      },
      "source": [
        "Pi = Pi * 0.85 + (0.15 / 6)\n",
        "\n",
        "print(Pi)"
      ],
      "execution_count": 6,
      "outputs": [
        {
          "output_type": "stream",
          "text": [
            "[[0.025      0.16666667 0.30833333 0.025      0.025      0.025     ]\n",
            " [0.45       0.16666667 0.30833333 0.025      0.025      0.025     ]\n",
            " [0.45       0.16666667 0.025      0.025      0.025      0.025     ]\n",
            " [0.025      0.16666667 0.025      0.025      0.45       0.875     ]\n",
            " [0.025      0.16666667 0.30833333 0.45       0.025      0.025     ]\n",
            " [0.025      0.16666667 0.025      0.45       0.45       0.025     ]]\n"
          ],
          "name": "stdout"
        }
      ]
    },
    {
      "cell_type": "markdown",
      "metadata": {
        "id": "sYGnnqoLhLWT"
      },
      "source": [
        "Now every site has a positive probability of leading to any other site, so there all states are recurrent.\n",
        "We can calculate the invariant measure as before:"
      ]
    },
    {
      "cell_type": "code",
      "metadata": {
        "id": "mw5_YG26g6hj",
        "outputId": "6c7d85e0-95d2-4fae-9155-ab18bd78dcba",
        "colab": {
          "base_uri": "https://localhost:8080/",
          "height": 34
        }
      },
      "source": [
        "evec = np.real(np.linalg.eig(Pi)[1][:,0])\n",
        "evec = evec / np.sum(evec)\n",
        "\n",
        "print('Invariant measure: ', np.round(evec,3))"
      ],
      "execution_count": 7,
      "outputs": [
        {
          "output_type": "stream",
          "text": [
            "Invariant measure:  [0.052 0.074 0.057 0.349 0.2   0.269]\n"
          ],
          "name": "stdout"
        }
      ]
    },
    {
      "cell_type": "markdown",
      "metadata": {
        "id": "4vYrh3zvh6-9"
      },
      "source": [
        "We can now rank the sites (most important first) as:\n",
        "\n",
        "4, 6, 5, 2, 3, 1"
      ]
    },
    {
      "cell_type": "markdown",
      "metadata": {
        "id": "Y07YxsbhjMrE"
      },
      "source": [
        "### Probability of absorption"
      ]
    },
    {
      "cell_type": "markdown",
      "metadata": {
        "id": "P6LkuaI1lshr"
      },
      "source": [
        "Suppose that a process has transition operator $\\Pi$ given by"
      ]
    },
    {
      "cell_type": "code",
      "metadata": {
        "id": "Rlv8T05ohbF8",
        "outputId": "3a9fe25a-06be-4ada-cb1d-fc80780fb578",
        "colab": {
          "base_uri": "https://localhost:8080/",
          "height": 102
        }
      },
      "source": [
        "Pi = np.array([[1, 0, 0, 0, 0],\n",
        "               [1/2, 0, 1/2, 0, 0],\n",
        "               [0, 1/2, 0, 1/2, 0],\n",
        "               [0, 0, 1/2, 0, 1/2],\n",
        "               [0, 0, 0, 0, 1]])\n",
        "print(Pi)"
      ],
      "execution_count": 8,
      "outputs": [
        {
          "output_type": "stream",
          "text": [
            "[[1.  0.  0.  0.  0. ]\n",
            " [0.5 0.  0.5 0.  0. ]\n",
            " [0.  0.5 0.  0.5 0. ]\n",
            " [0.  0.  0.5 0.  0.5]\n",
            " [0.  0.  0.  0.  1. ]]\n"
          ],
          "name": "stdout"
        }
      ]
    },
    {
      "cell_type": "markdown",
      "metadata": {
        "id": "3csTKngwnsf0"
      },
      "source": [
        "Call the states 0, 1, 2, 3, and 4.\n",
        "Then states 0 and 4 are absorbing, while states 1, 2, and 3 are transient.\n",
        "\n",
        "Notice that I have written $\\Pi$ as the transpose of the form that I used for ranking websites.  Both forms are common.\n",
        "\n",
        "Suppose we start at state 1.\n",
        "Eventually we will be absorbed in either states 0, or 4.\n",
        "What is the probability of each?\n",
        "\n",
        "We could estimate by applying $\\Pi$ many times to the vector $[0, 1, 0, 0, 0]^T$."
      ]
    },
    {
      "cell_type": "code",
      "metadata": {
        "id": "AAJuCyc9mKIj",
        "outputId": "cf2b1db0-d2e5-4886-b444-55ae441b048c",
        "colab": {
          "base_uri": "https://localhost:8080/",
          "height": 34
        }
      },
      "source": [
        "vec = np.array([0,1,0,0,0])\n",
        "\n",
        "for i in range(100):\n",
        "  vec = np.dot(vec, Pi)\n",
        "\n",
        "print(np.round(vec,3))"
      ],
      "execution_count": 9,
      "outputs": [
        {
          "output_type": "stream",
          "text": [
            "[0.75 0.   0.   0.   0.25]\n"
          ],
          "name": "stdout"
        }
      ]
    },
    {
      "cell_type": "markdown",
      "metadata": {
        "id": "mjImeXWlps75"
      },
      "source": [
        "So we expect to be absorbed in state 0 with probability 0.75 and to be absorbed in state 4 with probability 0.25.\n",
        "\n",
        "Lets try to solve this mathematically. \n",
        "We'll start by permuting the states to write the matrix in the form\n",
        "$$ \\left[\\begin{array}{c|c} I & 0 \\\\ \\hline S & Q \\end{array}\\right] $$\n",
        "where the absorbing states are listed first, and then the transient states.\n",
        "So if we list the states in the order 0, 4, 1, 2, 3, then the transition matrix becomes:"
      ]
    },
    {
      "cell_type": "code",
      "metadata": {
        "id": "kTDL7X8gpDNP",
        "outputId": "e8c5ed94-a96a-49a7-8d03-d42a62990f63",
        "colab": {
          "base_uri": "https://localhost:8080/",
          "height": 102
        }
      },
      "source": [
        "Pi = np.array([[1, 0, 0, 0, 0],\n",
        "               [0, 1, 0, 0, 0],\n",
        "               [1/2, 0, 0, 1/2, 0],\n",
        "               [0, 0, 1/2, 0, 1/2],\n",
        "               [0, 1/2, 0, 1/2, 0]])\n",
        "print(Pi)"
      ],
      "execution_count": 10,
      "outputs": [
        {
          "output_type": "stream",
          "text": [
            "[[1.  0.  0.  0.  0. ]\n",
            " [0.  1.  0.  0.  0. ]\n",
            " [0.5 0.  0.  0.5 0. ]\n",
            " [0.  0.  0.5 0.  0.5]\n",
            " [0.  0.5 0.  0.5 0. ]]\n"
          ],
          "name": "stdout"
        }
      ]
    },
    {
      "cell_type": "markdown",
      "metadata": {
        "id": "B8ngBmemrBMW"
      },
      "source": [
        "And we have"
      ]
    },
    {
      "cell_type": "code",
      "metadata": {
        "id": "lZi-caMUpMJp",
        "outputId": "fcf5738e-b143-4e95-8622-193d613d3670",
        "colab": {
          "base_uri": "https://localhost:8080/",
          "height": 119
        }
      },
      "source": [
        "S = Pi[2:, :2]\n",
        "Q = Pi[2:, 2:]\n",
        "\n",
        "print('S=', S)\n",
        "print('Q=', Q)"
      ],
      "execution_count": 11,
      "outputs": [
        {
          "output_type": "stream",
          "text": [
            "S= [[0.5 0. ]\n",
            " [0.  0. ]\n",
            " [0.  0.5]]\n",
            "Q= [[0.  0.5 0. ]\n",
            " [0.5 0.  0.5]\n",
            " [0.  0.5 0. ]]\n"
          ],
          "name": "stdout"
        }
      ]
    },
    {
      "cell_type": "markdown",
      "metadata": {
        "id": "u8jeEFKOsZkQ"
      },
      "source": [
        "Now suppose that $x, y$ are two transient states, and we begin at $x$.\n",
        "The probability of being at $y$ after 1 step is given by $Q_{x,y}$.\n",
        "Similarly, the probability of being at $y$ after $n$ steps is given by $Q^n_{x,y}$.\n",
        "So the expected number of visits to $y$ is given by the $(x,y)$-entry of\n",
        "$$ \\sum_{n=0}^\\infty Q^n. $$\n",
        "After checking some convergence and invertibility, we can use our series intuition to compute\n",
        "$$ \\sum_{n=0}^\\infty Q^n = (I - Q)^n. $$\n",
        "We can use this to compute the average number of steps to get absorbed, etc.\n",
        "\n",
        "Another application of this matrix is to compute the probability of absorption for different states.\n",
        "Let $x$ denote a transient state (starting point) and $r$ a recurrent state (ending point).\n",
        "We wish to calculate $a(x,r) = P_x(\\tau_r<\\infty)$, in other words, the probability of starting at state $x$ and being absorbed by state $r$.\n",
        "\n",
        "By \"taking a step,\" we have\n",
        "$$ a(x,r) = \\sum_y p(x,y)a(y,r), $$\n",
        "where the sum is over all states, and $p(x,y)$ is the $(x,y)$-entry of the transition matrix (the probability of jumping from state $x$ to state $y$).\n",
        "If $y$ is absorbing, then\n",
        "$$ a(y,r) = \\begin{cases} 1 & y = r \\\\ 0 & y \\neq r \\end{cases} $$.\n",
        "So we have\n",
        "$$ a(x,r) = \\sum_{y\\text{ trans}}p(x,y)a(y,r) + p(x,r). $$ \n",
        "Thus, if $A = (a(x,r))$, then $A = Q A + S$, or $A = (I-Q)^{-1}S$."
      ]
    },
    {
      "cell_type": "code",
      "metadata": {
        "id": "vL5pIt2CrNyG",
        "outputId": "c990bd5b-8450-4fd4-b272-a375971e390e",
        "colab": {
          "base_uri": "https://localhost:8080/",
          "height": 68
        }
      },
      "source": [
        "A = np.dot(np.linalg.inv(np.identity(3)-Q), S)\n",
        "\n",
        "print(A)"
      ],
      "execution_count": 12,
      "outputs": [
        {
          "output_type": "stream",
          "text": [
            "[[0.75 0.25]\n",
            " [0.5  0.5 ]\n",
            " [0.25 0.75]]\n"
          ],
          "name": "stdout"
        }
      ]
    },
    {
      "cell_type": "markdown",
      "metadata": {
        "id": "yVzsAVN3xBB_"
      },
      "source": [
        "We can now read off of the first row (corresponding to starting at state 1) that there is a probability of 0.75 of being absorbed by state 0 and a probability of 0.25 of being absorbed by state 4.\n",
        "This matches our earlier estimation!\n",
        "\n",
        "If we want to know the average number of steps it takes to be absorbed, we can just add up the average number of visits to each transient state using the matrix $(I - Q)^{-1}$ again."
      ]
    },
    {
      "cell_type": "code",
      "metadata": {
        "id": "G7jqVf0Bw7uR",
        "outputId": "da61f371-8de3-4e6e-a588-e8d66ee8d9ff",
        "colab": {
          "base_uri": "https://localhost:8080/",
          "height": 34
        }
      },
      "source": [
        "print(np.sum(np.linalg.inv(np.identity(3)-Q), axis=1))"
      ],
      "execution_count": 13,
      "outputs": [
        {
          "output_type": "stream",
          "text": [
            "[3. 4. 3.]\n"
          ],
          "name": "stdout"
        }
      ]
    },
    {
      "cell_type": "markdown",
      "metadata": {
        "id": "CllTUOwoyUff"
      },
      "source": [
        "The first entry is telling us that it takes an average of 3 steps to be absorbed.\n",
        "Here's some code to test this empirically:"
      ]
    },
    {
      "cell_type": "code",
      "metadata": {
        "id": "6WMtv-5Hy-z9"
      },
      "source": [
        "def trial():\n",
        "  state = 1\n",
        "  steps = 0\n",
        "  absorbed = False\n",
        "  while absorbed == False:\n",
        "    steps = steps + 1\n",
        "    if state == 1:\n",
        "      if np.random.rand() > 0.5:\n",
        "        state = 0\n",
        "        absorbed = True\n",
        "      else:\n",
        "        state = 2\n",
        "    elif state == 2:\n",
        "      if np.random.rand() > 0.5:\n",
        "        state = 1\n",
        "      else:\n",
        "        state = 3\n",
        "    else:\n",
        "      if np.random.rand() > 0.5:\n",
        "        state = 2\n",
        "      else:\n",
        "        state = 4\n",
        "        absorbed = True\n",
        "  return [state, steps]"
      ],
      "execution_count": 14,
      "outputs": []
    },
    {
      "cell_type": "code",
      "metadata": {
        "id": "ZRUQf74TyBeE"
      },
      "source": [
        "def sample(num_trials=10000):\n",
        "  states = np.zeros(5)\n",
        "  steps = []\n",
        "  for _ in range(num_trials):\n",
        "    state, stps = trial()\n",
        "    states[state] += 1\n",
        "    steps.append(stps)\n",
        "  print('Out of ', num_trials, ' trials:')\n",
        "  print('Finishing states: ', states)\n",
        "  print('Average number of steps :', sum(steps)/num_trials)"
      ],
      "execution_count": 15,
      "outputs": []
    },
    {
      "cell_type": "code",
      "metadata": {
        "id": "XR4DKD8e2JHC",
        "outputId": "16e4a462-f5bd-477c-be6c-09029b77be79",
        "colab": {
          "base_uri": "https://localhost:8080/",
          "height": 68
        }
      },
      "source": [
        "sample()"
      ],
      "execution_count": 16,
      "outputs": [
        {
          "output_type": "stream",
          "text": [
            "Out of  10000  trials:\n",
            "Finishing states:  [7491.    0.    0.    0. 2509.]\n",
            "Average number of steps : 2.9954\n"
          ],
          "name": "stdout"
        }
      ]
    },
    {
      "cell_type": "markdown",
      "metadata": {
        "id": "gC-LDELNyoS8"
      },
      "source": [
        "### Snakes and ladders"
      ]
    },
    {
      "cell_type": "markdown",
      "metadata": {
        "id": "EUD1cJKb4Uwc"
      },
      "source": [
        "Consider a nine square game of snakes and ladders, with the squares numbered from 1 to 9.\n",
        "You begin at square 1, and the game ends when you reach square 9.\n",
        "There's ladders going from square 2 to square 7, and from square 3 to square 5.\n",
        "There's snakes going from square 6 to square 1, and from square 8 to square 4.\n",
        "On your turn, you flip a fair coin.\n",
        "If the coin is heads you move forward one step, and if tails you move forward 2 steps.\n",
        "\n",
        "Suppose we are playing by ourselves.\n",
        "How many turns do we expect a game to last?\n",
        "\n",
        "The state space consists of squares 1, 4, 5, 7, and 9.\n",
        "The transition matrix for this process is given by:"
      ]
    },
    {
      "cell_type": "code",
      "metadata": {
        "id": "F71oVgMF22Sz",
        "outputId": "6fef9293-efea-4447-c50d-206b46d880a6",
        "colab": {
          "base_uri": "https://localhost:8080/",
          "height": 102
        }
      },
      "source": [
        "Pi = np.array([[0, 0, 1/2, 1/2, 0],\n",
        "               [1/2, 0, 1/2, 0, 0],\n",
        "               [1/2, 0, 0, 1/2, 0],\n",
        "               [0, 1/2, 0, 0, 1/2],\n",
        "               [0, 0, 0, 0, 1]])\n",
        "\n",
        "print(Pi)"
      ],
      "execution_count": 17,
      "outputs": [
        {
          "output_type": "stream",
          "text": [
            "[[0.  0.  0.5 0.5 0. ]\n",
            " [0.5 0.  0.5 0.  0. ]\n",
            " [0.5 0.  0.  0.5 0. ]\n",
            " [0.  0.5 0.  0.  0.5]\n",
            " [0.  0.  0.  0.  1. ]]\n"
          ],
          "name": "stdout"
        }
      ]
    },
    {
      "cell_type": "markdown",
      "metadata": {
        "id": "MwB9xSHb6Zb5"
      },
      "source": [
        "The matrix $Q$ is given by"
      ]
    },
    {
      "cell_type": "code",
      "metadata": {
        "id": "u6xltkBv6M1T",
        "outputId": "32f03726-bef6-4a0f-98d6-b6c2021cb2cb",
        "colab": {
          "base_uri": "https://localhost:8080/",
          "height": 85
        }
      },
      "source": [
        "Q = Pi[:4, :4]\n",
        "\n",
        "print(Q)"
      ],
      "execution_count": 18,
      "outputs": [
        {
          "output_type": "stream",
          "text": [
            "[[0.  0.  0.5 0.5]\n",
            " [0.5 0.  0.5 0. ]\n",
            " [0.5 0.  0.  0.5]\n",
            " [0.  0.5 0.  0. ]]\n"
          ],
          "name": "stdout"
        }
      ]
    },
    {
      "cell_type": "code",
      "metadata": {
        "id": "t6dJEMGG6hko",
        "outputId": "632cdfc2-7f5c-4da7-e697-c0f09c0ee499",
        "colab": {
          "base_uri": "https://localhost:8080/",
          "height": 34
        }
      },
      "source": [
        "# Calculate (I-Q)^-1, and sum along the rows.\n",
        "\n",
        "print(np.sum(np.linalg.inv(np.identity(4) - Q),axis=1))"
      ],
      "execution_count": 19,
      "outputs": [
        {
          "output_type": "stream",
          "text": [
            "[7. 8. 7. 5.]\n"
          ],
          "name": "stdout"
        }
      ]
    },
    {
      "cell_type": "markdown",
      "metadata": {
        "id": "XEOnNjdQ7Ibl"
      },
      "source": [
        "We conclude from the frist entry that we expect a game to last 7 turns on average.\n",
        "\n",
        "Now suppose you want to convince your friend to play your game with you, but she thinks 7 turns is just too long.\n",
        "Let's try to figure out how long we expect a game to last with 2 players.\n",
        "\n",
        "Since the two players moves are independent, we might as well think of the players as moving at the same time.\n",
        "So the new state space consists of tuples $(a,b)$ with $a,b \\in \\{1, 4, 5, 7, 9\\}$ and the game ends when one of $a$ or $b$ is 9.\n",
        "\n",
        "The transition matrix is much bigger.\n",
        "We can compute it by using a matrix tensor product of $\\Pi$ with itself.\n"
      ]
    },
    {
      "cell_type": "code",
      "metadata": {
        "id": "YQ816Fwq61tm",
        "outputId": "313ec706-2aa1-49b7-c959-f2a5ba27f4cd",
        "colab": {
          "base_uri": "https://localhost:8080/",
          "height": 867
        }
      },
      "source": [
        "Pi = np.tensordot(Pi, Pi, axes=0)\n",
        "Pi = np.array([[Pi[i//5, j//5, i%5, j%5] for j in range(25)] for i in range(25)])\n",
        "print(Pi)"
      ],
      "execution_count": 20,
      "outputs": [
        {
          "output_type": "stream",
          "text": [
            "[[0.   0.   0.   0.   0.   0.   0.   0.   0.   0.   0.   0.   0.25 0.25\n",
            "  0.   0.   0.   0.25 0.25 0.   0.   0.   0.   0.   0.  ]\n",
            " [0.   0.   0.   0.   0.   0.   0.   0.   0.   0.   0.25 0.   0.25 0.\n",
            "  0.   0.25 0.   0.25 0.   0.   0.   0.   0.   0.   0.  ]\n",
            " [0.   0.   0.   0.   0.   0.   0.   0.   0.   0.   0.25 0.   0.   0.25\n",
            "  0.   0.25 0.   0.   0.25 0.   0.   0.   0.   0.   0.  ]\n",
            " [0.   0.   0.   0.   0.   0.   0.   0.   0.   0.   0.   0.25 0.   0.\n",
            "  0.25 0.   0.25 0.   0.   0.25 0.   0.   0.   0.   0.  ]\n",
            " [0.   0.   0.   0.   0.   0.   0.   0.   0.   0.   0.   0.   0.   0.\n",
            "  0.5  0.   0.   0.   0.   0.5  0.   0.   0.   0.   0.  ]\n",
            " [0.   0.   0.25 0.25 0.   0.   0.   0.   0.   0.   0.   0.   0.25 0.25\n",
            "  0.   0.   0.   0.   0.   0.   0.   0.   0.   0.   0.  ]\n",
            " [0.25 0.   0.25 0.   0.   0.   0.   0.   0.   0.   0.25 0.   0.25 0.\n",
            "  0.   0.   0.   0.   0.   0.   0.   0.   0.   0.   0.  ]\n",
            " [0.25 0.   0.   0.25 0.   0.   0.   0.   0.   0.   0.25 0.   0.   0.25\n",
            "  0.   0.   0.   0.   0.   0.   0.   0.   0.   0.   0.  ]\n",
            " [0.   0.25 0.   0.   0.25 0.   0.   0.   0.   0.   0.   0.25 0.   0.\n",
            "  0.25 0.   0.   0.   0.   0.   0.   0.   0.   0.   0.  ]\n",
            " [0.   0.   0.   0.   0.5  0.   0.   0.   0.   0.   0.   0.   0.   0.\n",
            "  0.5  0.   0.   0.   0.   0.   0.   0.   0.   0.   0.  ]\n",
            " [0.   0.   0.25 0.25 0.   0.   0.   0.   0.   0.   0.   0.   0.   0.\n",
            "  0.   0.   0.   0.25 0.25 0.   0.   0.   0.   0.   0.  ]\n",
            " [0.25 0.   0.25 0.   0.   0.   0.   0.   0.   0.   0.   0.   0.   0.\n",
            "  0.   0.25 0.   0.25 0.   0.   0.   0.   0.   0.   0.  ]\n",
            " [0.25 0.   0.   0.25 0.   0.   0.   0.   0.   0.   0.   0.   0.   0.\n",
            "  0.   0.25 0.   0.   0.25 0.   0.   0.   0.   0.   0.  ]\n",
            " [0.   0.25 0.   0.   0.25 0.   0.   0.   0.   0.   0.   0.   0.   0.\n",
            "  0.   0.   0.25 0.   0.   0.25 0.   0.   0.   0.   0.  ]\n",
            " [0.   0.   0.   0.   0.5  0.   0.   0.   0.   0.   0.   0.   0.   0.\n",
            "  0.   0.   0.   0.   0.   0.5  0.   0.   0.   0.   0.  ]\n",
            " [0.   0.   0.   0.   0.   0.   0.   0.25 0.25 0.   0.   0.   0.   0.\n",
            "  0.   0.   0.   0.   0.   0.   0.   0.   0.25 0.25 0.  ]\n",
            " [0.   0.   0.   0.   0.   0.25 0.   0.25 0.   0.   0.   0.   0.   0.\n",
            "  0.   0.   0.   0.   0.   0.   0.25 0.   0.25 0.   0.  ]\n",
            " [0.   0.   0.   0.   0.   0.25 0.   0.   0.25 0.   0.   0.   0.   0.\n",
            "  0.   0.   0.   0.   0.   0.   0.25 0.   0.   0.25 0.  ]\n",
            " [0.   0.   0.   0.   0.   0.   0.25 0.   0.   0.25 0.   0.   0.   0.\n",
            "  0.   0.   0.   0.   0.   0.   0.   0.25 0.   0.   0.25]\n",
            " [0.   0.   0.   0.   0.   0.   0.   0.   0.   0.5  0.   0.   0.   0.\n",
            "  0.   0.   0.   0.   0.   0.   0.   0.   0.   0.   0.5 ]\n",
            " [0.   0.   0.   0.   0.   0.   0.   0.   0.   0.   0.   0.   0.   0.\n",
            "  0.   0.   0.   0.   0.   0.   0.   0.   0.5  0.5  0.  ]\n",
            " [0.   0.   0.   0.   0.   0.   0.   0.   0.   0.   0.   0.   0.   0.\n",
            "  0.   0.   0.   0.   0.   0.   0.5  0.   0.5  0.   0.  ]\n",
            " [0.   0.   0.   0.   0.   0.   0.   0.   0.   0.   0.   0.   0.   0.\n",
            "  0.   0.   0.   0.   0.   0.   0.5  0.   0.   0.5  0.  ]\n",
            " [0.   0.   0.   0.   0.   0.   0.   0.   0.   0.   0.   0.   0.   0.\n",
            "  0.   0.   0.   0.   0.   0.   0.   0.5  0.   0.   0.5 ]\n",
            " [0.   0.   0.   0.   0.   0.   0.   0.   0.   0.   0.   0.   0.   0.\n",
            "  0.   0.   0.   0.   0.   0.   0.   0.   0.   0.   1.  ]]\n"
          ],
          "name": "stdout"
        }
      ]
    },
    {
      "cell_type": "markdown",
      "metadata": {
        "id": "Tz69ivqCElwv"
      },
      "source": [
        "Technically we should make any state with $a$ or $b$ equal to 5 to be absorbing.\n",
        "Once we delete these rows and colums we get the matrix $Q$."
      ]
    },
    {
      "cell_type": "code",
      "metadata": {
        "id": "ipCGv1p58SpU",
        "outputId": "79f81631-a855-4295-d901-39cc0825e6a4",
        "colab": {
          "base_uri": "https://localhost:8080/",
          "height": 68
        }
      },
      "source": [
        "Q = Pi\n",
        "Q = np.delete(Q, [4, 9, 14, 19, 20, 21, 22, 23, 24], 0)\n",
        "Q = np.delete(Q, [4, 9, 14, 19, 20, 21, 22, 23, 24], 1)\n",
        "\n",
        "# Calculate (I-Q)^-1\n",
        "print(np.sum(np.linalg.inv(np.identity(16) - Q),axis=1))"
      ],
      "execution_count": 21,
      "outputs": [
        {
          "output_type": "stream",
          "text": [
            "[4.04201681 4.48739496 4.04201681 2.93277311 4.48739496 5.04201681\n",
            " 4.48739496 3.24369748 4.04201681 4.48739496 4.04201681 2.93277311\n",
            " 2.93277311 3.24369748 2.93277311 2.2605042 ]\n"
          ],
          "name": "stdout"
        }
      ]
    },
    {
      "cell_type": "markdown",
      "metadata": {
        "id": "NKO7R8UoGRyW"
      },
      "source": [
        "The first entry tells us that we expect the game to only take about 4 turns on average with 2 players.\n",
        "\n",
        "Your friend agrees to play.\n",
        "You go first and end up winning!\n",
        "Your friend says that the game wasn't fair because you got to go first.\n",
        "We can figure out the probability of winning given that we went first as follows.\n",
        "\n",
        "We can combine all the states $(a,b)$ with $a=5$ into one state where the first player wins.\n",
        "We can combing all the states with $a\\neq 5$ and $b=5$ into a second state where the second player wins.\n",
        "Then, we calculate the probabilities of getting absorbed into these two states.\n",
        "\n",
        "We have already computed the matrix $(I-Q)^{-1}$.\n",
        "We just need the matrix $S$."
      ]
    },
    {
      "cell_type": "code",
      "metadata": {
        "id": "8PF97i7aF-ws",
        "outputId": "76978c41-992b-446a-fc8b-a0331b69b8c0",
        "colab": {
          "base_uri": "https://localhost:8080/",
          "height": 289
        }
      },
      "source": [
        "S = np.zeros((16,2))\n",
        "\n",
        "# Chances of player one winning\n",
        "S[12, 0] = S[13, 0] = S[14, 0] = S[15, 0] = 0.5\n",
        "\n",
        "# Chances of player two winning\n",
        "S[3,1] = S[7,1] = S[11,1] = 0.5\n",
        "S[15,1] = 0.25\n",
        "\n",
        "print(S)"
      ],
      "execution_count": 22,
      "outputs": [
        {
          "output_type": "stream",
          "text": [
            "[[0.   0.  ]\n",
            " [0.   0.  ]\n",
            " [0.   0.  ]\n",
            " [0.   0.5 ]\n",
            " [0.   0.  ]\n",
            " [0.   0.  ]\n",
            " [0.   0.  ]\n",
            " [0.   0.5 ]\n",
            " [0.   0.  ]\n",
            " [0.   0.  ]\n",
            " [0.   0.  ]\n",
            " [0.   0.5 ]\n",
            " [0.5  0.  ]\n",
            " [0.5  0.  ]\n",
            " [0.5  0.  ]\n",
            " [0.5  0.25]]\n"
          ],
          "name": "stdout"
        }
      ]
    },
    {
      "cell_type": "code",
      "metadata": {
        "id": "SIUqr12PI33i",
        "outputId": "0a1c602f-b9c3-41e8-ee11-0725a6138c5d",
        "colab": {
          "base_uri": "https://localhost:8080/",
          "height": 289
        }
      },
      "source": [
        "print(np.dot(np.linalg.inv(np.identity(16) - Q), S))"
      ],
      "execution_count": 23,
      "outputs": [
        {
          "output_type": "stream",
          "text": [
            "[[0.55462185 0.44537815]\n",
            " [0.62184874 0.37815126]\n",
            " [0.55462185 0.44537815]\n",
            " [0.33613445 0.66386555]\n",
            " [0.44537815 0.55462185]\n",
            " [0.55462185 0.44537815]\n",
            " [0.44537815 0.55462185]\n",
            " [0.31092437 0.68907563]\n",
            " [0.55462185 0.44537815]\n",
            " [0.62184874 0.37815126]\n",
            " [0.55462185 0.44537815]\n",
            " [0.33613445 0.66386555]\n",
            " [0.68907563 0.31092437]\n",
            " [0.72268908 0.27731092]\n",
            " [0.68907563 0.31092437]\n",
            " [0.63865546 0.36134454]]\n"
          ],
          "name": "stdout"
        }
      ]
    },
    {
      "cell_type": "markdown",
      "metadata": {
        "id": "CyusUDfiMnt6"
      },
      "source": [
        "The first rows tells us that player 1 has a 55% chance of winning while player 2 only has a 45% chance of winning.\n",
        "I guess your friend was right this time..."
      ]
    },
    {
      "cell_type": "code",
      "metadata": {
        "id": "I8_ZLa08Mf59"
      },
      "source": [
        ""
      ],
      "execution_count": 23,
      "outputs": []
    }
  ]
}