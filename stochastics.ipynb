{
  "nbformat": 4,
  "nbformat_minor": 0,
  "metadata": {
    "colab": {
      "name": "stochastics.ipynb",
      "provenance": [],
      "authorship_tag": "ABX9TyMylWxOc/lvzGndGsg33Jc3",
      "include_colab_link": true
    },
    "kernelspec": {
      "name": "python3",
      "display_name": "Python 3"
    }
  },
  "cells": [
    {
      "cell_type": "markdown",
      "metadata": {
        "id": "view-in-github",
        "colab_type": "text"
      },
      "source": [
        "<a href=\"https://colab.research.google.com/github/kevinrchilders/stochastics/blob/main/stochastics.ipynb\" target=\"_parent\"><img src=\"https://colab.research.google.com/assets/colab-badge.svg\" alt=\"Open In Colab\"/></a>"
      ]
    },
    {
      "cell_type": "markdown",
      "metadata": {
        "id": "0f2BHQaFQx3N"
      },
      "source": [
        "#Stochastics\n",
        "\n",
        "---\n",
        "\n",
        "From a special topics course at the University of Utah in Spring 2020."
      ]
    },
    {
      "cell_type": "markdown",
      "metadata": {
        "id": "iMz9uSWtRYfk"
      },
      "source": [
        "---\n",
        "\n",
        "## Markov chains\n",
        "\n",
        "---"
      ]
    },
    {
      "cell_type": "markdown",
      "metadata": {
        "id": "PMhQWm1qi_km"
      },
      "source": [
        "### A small web of sites"
      ]
    },
    {
      "cell_type": "markdown",
      "metadata": {
        "id": "eConV_gkS6Eb"
      },
      "source": [
        "Consider a tiny web consisting of 6 sites. Site 1 is John’s\n",
        "homepage. John teaches calculus and his site points to sites 2 and 3. Site 2 is the course syllabus and does not point to any other sites. Site 3 is the calculus course website. It points back at John’s homepage and also at the course syllabus. It also points at Emily’s webpage, site 5. (Emily is the TA for the course.) Site 4 belongs to a friend of Emily’s, Jack. It points at Emily’s website and at Jack’s old website, site 6. Emily’s website points at both Jack’s pages, the new one 4 and the old one 6. Jack’s old webpage 6 points at his new webpage 4.\n",
        "\n",
        "Suppose from any site you are equally likely to follow any link.  This creates a Markov process, since your decision of what to click next depends only on your current location.  There's one issue: site 2 doesn't have any links.  So let's just say that from site 2 you are equally likely to jump to any of the six sites.  Then the transition matrix $\\Pi$ is given by:"
      ]
    },
    {
      "cell_type": "code",
      "metadata": {
        "id": "ez6aaDSnUOKG",
        "outputId": "9ee4e50c-0df4-4b59-f349-848136a6e1d9",
        "colab": {
          "base_uri": "https://localhost:8080/",
          "height": 119
        }
      },
      "source": [
        "Pi = np.array([[0, 1/6, 1/3, 0, 0, 0], \n",
        "                [1/2, 1/6, 1/3, 0, 0, 0], \n",
        "                [1/2, 1/6, 0, 0, 0, 0], \n",
        "                [0, 1/6, 0, 0, 1/2, 1], \n",
        "                [0, 1/6, 1/3, 1/2, 0, 0], \n",
        "                [0, 1/6, 0, 1/2, 1/2, 0]])\n",
        "\n",
        "print(Pi)"
      ],
      "execution_count": 71,
      "outputs": [
        {
          "output_type": "stream",
          "text": [
            "[[0.         0.16666667 0.33333333 0.         0.         0.        ]\n",
            " [0.5        0.16666667 0.33333333 0.         0.         0.        ]\n",
            " [0.5        0.16666667 0.         0.         0.         0.        ]\n",
            " [0.         0.16666667 0.         0.         0.5        1.        ]\n",
            " [0.         0.16666667 0.33333333 0.5        0.         0.        ]\n",
            " [0.         0.16666667 0.         0.5        0.5        0.        ]]\n"
          ],
          "name": "stdout"
        }
      ]
    },
    {
      "cell_type": "markdown",
      "metadata": {
        "id": "8Ynvm-YcX6iz"
      },
      "source": [
        "Suppose that we wish to \"rank\" the sites.\n",
        "We could do this by computing the invariant measure (which tells us the probability to be at each site after a large number of clicks).\n",
        "Notice that $\\Pi$ has an eigenvalue of 1."
      ]
    },
    {
      "cell_type": "code",
      "metadata": {
        "id": "b7vG5FnGVvxd",
        "outputId": "3ea4eca8-20ab-4443-960e-b618c8012d42",
        "colab": {
          "base_uri": "https://localhost:8080/",
          "height": 34
        }
      },
      "source": [
        "np.linalg.eigvals(Pi)[0]"
      ],
      "execution_count": 72,
      "outputs": [
        {
          "output_type": "execute_result",
          "data": {
            "text/plain": [
              "(1.0000000000000013+0j)"
            ]
          },
          "metadata": {
            "tags": []
          },
          "execution_count": 72
        }
      ]
    },
    {
      "cell_type": "markdown",
      "metadata": {
        "id": "AZksF39aYcAm"
      },
      "source": [
        "We can find the invariant measure by solving for an eigenvector of $\\Pi$ with eigenvalue 1, and normalizing so that the entries add to 1."
      ]
    },
    {
      "cell_type": "code",
      "metadata": {
        "id": "mM9UGVDGXwhm",
        "outputId": "a48ca71d-dab0-4d20-d66e-6cfd79c9d9da",
        "colab": {
          "base_uri": "https://localhost:8080/",
          "height": 51
        }
      },
      "source": [
        "evec = np.linalg.eig(Pi)[1][:, 0]\n",
        "\n",
        "# Shows that evec is an eigenvector for 1\n",
        "\n",
        "print('Pi*evec =\\t', np.round(np.dot(Pi, evec),5))\n",
        "print('evec =\\t\\t', np.round(evec,5))"
      ],
      "execution_count": 73,
      "outputs": [
        {
          "output_type": "stream",
          "text": [
            "Pi*evec =\t [0.     +0.j 0.     +0.j 0.     +0.j 0.74278+0.j 0.37139+0.j 0.55709+0.j]\n",
            "evec =\t\t [0.     +0.j 0.     +0.j 0.     +0.j 0.74278+0.j 0.37139+0.j 0.55709+0.j]\n"
          ],
          "name": "stdout"
        }
      ]
    },
    {
      "cell_type": "code",
      "metadata": {
        "id": "FhG2PskrYIgA",
        "outputId": "0f381b12-1f8e-4879-8f9d-5ea1fa029e5f",
        "colab": {
          "base_uri": "https://localhost:8080/",
          "height": 51
        }
      },
      "source": [
        "# Drop imaginary parts (which appear to be 0)\n",
        "evec = np.real(evec)\n",
        "print('Before normalizing:\\t',np.round(evec,5))\n",
        "\n",
        "# Scale so that the entries sum to 1\n",
        "evec = evec / np.sum(evec)\n",
        "print('After normalizing:\\t',np.round(evec,5))"
      ],
      "execution_count": 74,
      "outputs": [
        {
          "output_type": "stream",
          "text": [
            "Before normalizing:\t [0.      0.      0.      0.74278 0.37139 0.55709]\n",
            "After normalizing:\t [0.      0.      0.      0.44444 0.22222 0.33333]\n"
          ],
          "name": "stdout"
        }
      ]
    },
    {
      "cell_type": "markdown",
      "metadata": {
        "id": "tB7veF0Bc4lG"
      },
      "source": [
        "So the invariant measure is given by $[0, 0, 0, \\frac49, \\frac29, \\frac39]^T$.  Notice that in this model sites 1, 2, and 3 are transient.  So it isn't surprising that the invariant measure gives zero probability to these states.\n",
        "As a result, we can't fully rank the sites.\n",
        "\n",
        "To fix this, we can add to each site (other than 2) a small chance of jumping to any site.\n",
        "Say that with 15% probability we make a random jump, and with 85% probability we follow a link.\n",
        "\n",
        "Then new transition matrix is given by:"
      ]
    },
    {
      "cell_type": "code",
      "metadata": {
        "id": "b7sHg5_Paf9t",
        "outputId": "7190231b-4c7d-442a-9b5f-f302148f8455",
        "colab": {
          "base_uri": "https://localhost:8080/",
          "height": 119
        }
      },
      "source": [
        "Pi = Pi * 0.85 + (0.15 / 6)\n",
        "\n",
        "print(Pi)"
      ],
      "execution_count": 75,
      "outputs": [
        {
          "output_type": "stream",
          "text": [
            "[[0.025      0.16666667 0.30833333 0.025      0.025      0.025     ]\n",
            " [0.45       0.16666667 0.30833333 0.025      0.025      0.025     ]\n",
            " [0.45       0.16666667 0.025      0.025      0.025      0.025     ]\n",
            " [0.025      0.16666667 0.025      0.025      0.45       0.875     ]\n",
            " [0.025      0.16666667 0.30833333 0.45       0.025      0.025     ]\n",
            " [0.025      0.16666667 0.025      0.45       0.45       0.025     ]]\n"
          ],
          "name": "stdout"
        }
      ]
    },
    {
      "cell_type": "markdown",
      "metadata": {
        "id": "sYGnnqoLhLWT"
      },
      "source": [
        "Now every site has a positive probability of leading to any other site, so there all states are recurrent.\n",
        "We can calculate the invariant measure as before:"
      ]
    },
    {
      "cell_type": "code",
      "metadata": {
        "id": "mw5_YG26g6hj",
        "outputId": "aaee2e0d-3235-4af8-bdf8-0eb7d2e4ca1e",
        "colab": {
          "base_uri": "https://localhost:8080/",
          "height": 34
        }
      },
      "source": [
        "evec = np.real(np.linalg.eig(Pi)[1][:,0])\n",
        "evec = evec / np.sum(evec)\n",
        "\n",
        "print('Invariant measure: ', np.round(evec,3))"
      ],
      "execution_count": 87,
      "outputs": [
        {
          "output_type": "stream",
          "text": [
            "Invariant measure:  [0.052 0.074 0.057 0.349 0.2   0.269]\n"
          ],
          "name": "stdout"
        }
      ]
    },
    {
      "cell_type": "markdown",
      "metadata": {
        "id": "4vYrh3zvh6-9"
      },
      "source": [
        "We can now rank the sites (most important first) as:\n",
        "\n",
        "4, 6, 5, 2, 3, 1"
      ]
    },
    {
      "cell_type": "markdown",
      "metadata": {
        "id": "Y07YxsbhjMrE"
      },
      "source": [
        "### Probability of absorption"
      ]
    },
    {
      "cell_type": "code",
      "metadata": {
        "id": "Rlv8T05ohbF8"
      },
      "source": [
        ""
      ],
      "execution_count": null,
      "outputs": []
    }
  ]
}