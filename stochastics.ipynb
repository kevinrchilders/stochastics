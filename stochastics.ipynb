{
  "nbformat": 4,
  "nbformat_minor": 0,
  "metadata": {
    "colab": {
      "name": "stochastics.ipynb",
      "provenance": [],
      "authorship_tag": "ABX9TyMhxBgq1XnAEOJuyMPqBaW2",
      "include_colab_link": true
    },
    "kernelspec": {
      "name": "python3",
      "display_name": "Python 3"
    }
  },
  "cells": [
    {
      "cell_type": "markdown",
      "metadata": {
        "id": "view-in-github",
        "colab_type": "text"
      },
      "source": [
        "<a href=\"https://colab.research.google.com/github/kevinrchilders/stochastics/blob/main/stochastics.ipynb\" target=\"_parent\"><img src=\"https://colab.research.google.com/assets/colab-badge.svg\" alt=\"Open In Colab\"/></a>"
      ]
    },
    {
      "cell_type": "markdown",
      "metadata": {
        "id": "0f2BHQaFQx3N"
      },
      "source": [
        "#Stochastics\n",
        "\n",
        "---\n",
        "\n",
        "From a special topics course at the University of Utah in Spring 2020."
      ]
    },
    {
      "cell_type": "markdown",
      "metadata": {
        "id": "iMz9uSWtRYfk"
      },
      "source": [
        "## Markov chains\n",
        "\n",
        "---"
      ]
    },
    {
      "cell_type": "markdown",
      "metadata": {
        "id": "eConV_gkS6Eb"
      },
      "source": [
        "Consider a tiny web consisting of 6 sites. Site 1 is John’s\n",
        "homepage. John teaches calculus and his site points to sites 2 and 3. Site 2 is the course syllabus and does not point to any other sites. Site 3 is the calculus course website. It points back at John’s homepage and also at the course syllabus. It also points at Emily’s webpage, site 5. (Emily is the TA for the course.) Site 4 belongs to a friend of Emily’s, Jack. It points at Emily’s website and at Jack’s old website, site 6. Emily’s website points at both Jack’s pages, the new one 4 and the old one 6. Jack’s old webpage 6 points at his new webpage 4.\n",
        "\n",
        "Suppose from any site you are equally likely to follow any link.  This creates a Markov process, since your decision of what to click next depends only on your current location.  The transition matrix for this process is given by:"
      ]
    },
    {
      "cell_type": "code",
      "metadata": {
        "id": "4E6FCOcFQutT",
        "outputId": "c0275f75-b894-44fa-9ce3-ba3c24e655af",
        "colab": {
          "base_uri": "https://localhost:8080/",
          "height": 119
        }
      },
      "source": [
        "import numpy as np\n",
        "\n",
        "print(np.array([[0, 0, 1/3, 0, 0, 0], \n",
        "                [1/2, 0, 1/3, 0, 0, 0], \n",
        "                [1/2, 0, 0, 0, 0, 0], \n",
        "                [0, 0, 0, 0, 1/2, 1], \n",
        "                [0, 0, 1/3, 1/2, 0, 0], \n",
        "                [0, 0, 0, 1/2, 1/2, 0]]))"
      ],
      "execution_count": 2,
      "outputs": [
        {
          "output_type": "stream",
          "text": [
            "[[0.         0.         0.33333333 0.         0.         0.        ]\n",
            " [0.5        0.         0.33333333 0.         0.         0.        ]\n",
            " [0.5        0.         0.         0.         0.         0.        ]\n",
            " [0.         0.         0.         0.         0.5        1.        ]\n",
            " [0.         0.         0.33333333 0.5        0.         0.        ]\n",
            " [0.         0.         0.         0.5        0.5        0.        ]]\n"
          ],
          "name": "stdout"
        }
      ]
    },
    {
      "cell_type": "markdown",
      "metadata": {
        "id": "4Vj8lsmTUa0s"
      },
      "source": [
        "Of course, site 2 (the syllabus) is absorbing, and all roads eventually lead to it.  In order to rank the sites better, lets say that from site 2 you jump randomly to any of the 6 sites with equal probability.\n",
        "Then the transition matrix becomes:"
      ]
    },
    {
      "cell_type": "code",
      "metadata": {
        "id": "ez6aaDSnUOKG",
        "outputId": "9395203f-8933-448d-9fcd-00259e5daf6c",
        "colab": {
          "base_uri": "https://localhost:8080/",
          "height": 119
        }
      },
      "source": [
        "print(np.array([[0, 1/6, 1/3, 0, 0, 0], \n",
        "                [1/2, 1/6, 1/3, 0, 0, 0], \n",
        "                [1/2, 1/6, 0, 0, 0, 0], \n",
        "                [0, 1/6, 0, 0, 1/2, 1], \n",
        "                [0, 1/6, 1/3, 1/2, 0, 0], \n",
        "                [0, 1/6, 0, 1/2, 1/2, 0]]))"
      ],
      "execution_count": 3,
      "outputs": [
        {
          "output_type": "stream",
          "text": [
            "[[0.         0.16666667 0.33333333 0.         0.         0.        ]\n",
            " [0.5        0.16666667 0.33333333 0.         0.         0.        ]\n",
            " [0.5        0.16666667 0.         0.         0.         0.        ]\n",
            " [0.         0.16666667 0.         0.         0.5        1.        ]\n",
            " [0.         0.16666667 0.33333333 0.5        0.         0.        ]\n",
            " [0.         0.16666667 0.         0.5        0.5        0.        ]]\n"
          ],
          "name": "stdout"
        }
      ]
    },
    {
      "cell_type": "code",
      "metadata": {
        "id": "b7vG5FnGVvxd"
      },
      "source": [
        ""
      ],
      "execution_count": null,
      "outputs": []
    }
  ]
}